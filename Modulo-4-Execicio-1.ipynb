{
 "cells": [
  {
   "cell_type": "markdown",
   "metadata": {},
   "source": [
    "# Módulo 4: Introdução ao Pandas e carga de dados\n",
    "# Exercício 1\n",
    "\n",
    "\n",
    "Faremos neste Notebook aplicações que utilizam o Séries no Pandas e DataFrames. São sete exercícios:\n",
    "1) Criação de Série do Pandas com uma lista de dados;\n",
    "2) Criação de índices na Série;\n",
    "3) Criação de Série do Pandas com dicionários de dados;\n",
    "4) Criação de um DataFrame a partir de um NDarray;\n",
    "5) Noameação de indices de linhas e colunas;\n",
    "6) Criação de uma coluna média baseada nos valores das colunas;\n",
    "7) Criação de uma coluna com o logaritmo natural.\n",
    "\n",
    "\n",
    "\n",
    "\n",
    "\n",
    "#### 1)  crie uma série do pandas a partir de uma lista com os dados abaixo:\n",
    "\n",
    "Em um estudo sobre alteração na temperatura global, A NASA disponibiliza dados de diferenças de de temperatura média da superfície terrestre relativos às médias de temperatura entre 1951 e 1980. Os dados originais podem ser vistos no site da NASA/GISS, e estão dispostos a cada década na tabela abaixo.\n",
    "\n",
    "|ano|anomalia termica|\n",
    "|:-:|:----:|\n",
    "| 1900 | -0.08 |\n",
    "| 1920 | -0.27 |\n",
    "| 1940 | 0.12 |\n",
    "| 1960 | -0.03 |\n",
    "| 1980 | 0.26 |\n",
    "| 2000 | 0.40 |\n",
    "| 2020 | 1.02 |\n",
    "\n",
    "Crie uma séries do Pandas a partir de uma lista com esses dados."
   ]
  },
  {
   "cell_type": "code",
   "execution_count": 84,
   "metadata": {},
   "outputs": [
    {
     "data": {
      "text/plain": [
       "0   -0.08\n",
       "1   -0.27\n",
       "2    0.12\n",
       "3   -0.03\n",
       "4    0.26\n",
       "5    0.40\n",
       "6    1.02\n",
       "dtype: float64"
      ]
     },
     "execution_count": 84,
     "metadata": {},
     "output_type": "execute_result"
    }
   ],
   "source": [
    "import pandas as pd\n",
    "import numpy as np\n",
    "\n",
    "\n",
    "dados_anomalia_termica = [-0.08, -0.27, 0.12,-0.03, 0.26, 0.40, 1.02]\n",
    "anomaliaTermicaSemIndice = pd.Series(dados_anomalia_termica)\n",
    "anomaliaTermicaSemIndice"
   ]
  },
  {
   "cell_type": "markdown",
   "metadata": {},
   "source": [
    "#### 2) Coloque os anos nos índices conforme a tabela."
   ]
  },
  {
   "cell_type": "code",
   "execution_count": 85,
   "metadata": {},
   "outputs": [
    {
     "data": {
      "text/plain": [
       "1900   -0.08\n",
       "1920   -0.27\n",
       "1940    0.12\n",
       "1960   -0.03\n",
       "1980    0.26\n",
       "2000    0.40\n",
       "2020    1.02\n",
       "dtype: float64"
      ]
     },
     "execution_count": 85,
     "metadata": {},
     "output_type": "execute_result"
    }
   ],
   "source": [
    "dados_anomalia_termica = [-0.08, -0.27, 0.12,-0.03, 0.26, 0.40, 1.02]\n",
    "dados_anos = list(range(1900, 2040, 20))\n",
    "\n",
    "anomaliaTermicaComIndice = pd.Series(dados_anomalia_termica, dados_anos)\n",
    "anomaliaTermicaComIndice "
   ]
  },
  {
   "cell_type": "markdown",
   "metadata": {},
   "source": [
    "#### 3) A partir do dicionário abaixo, crie uma séries do Pandas:"
   ]
  },
  {
   "cell_type": "code",
   "execution_count": 87,
   "metadata": {},
   "outputs": [
    {
     "name": "stdout",
     "output_type": "stream",
     "text": [
      "1900   -0.08\n",
      "1920   -0.27\n",
      "1940    0.12\n",
      "1960   -0.03\n",
      "1980    0.26\n",
      "2000    0.40\n",
      "2020    1.02\n",
      "dtype: float64\n"
     ]
    }
   ],
   "source": [
    "dic_temperaturas = {1900: -.08, 1920: -.27, 1940: .12, 1960: -.03, 1980: .26, 2000: .40, 2020: 1.02}\n",
    "anomaliaTermicaDicionario = pd.Series(dic_temperaturas)\n",
    "print(anomaliaTermicaDicionario)\n",
    "# seu código aqui\n"
   ]
  },
  {
   "cell_type": "markdown",
   "metadata": {},
   "source": [
    "#### 4) Transforme o ndarray abaixo em um dataframe. \n",
    "O numpy é capaz de gerar arrays n-dimensionais com números pseudo-aleatórios de acordo com uma variedade de distribuições, como no exemplo abaixo. Transforme esse nd-array em um DataFrame."
   ]
  },
  {
   "cell_type": "code",
   "execution_count": 88,
   "metadata": {},
   "outputs": [
    {
     "name": "stdout",
     "output_type": "stream",
     "text": [
      "             0           1           2\n",
      "0    93.639227   83.963742   83.953889\n",
      "1   108.637202  104.708713   90.981530\n",
      "2   113.772274   95.454066   88.358183\n",
      "3    79.228644  101.222376  103.389761\n",
      "4   110.289146   86.112610   80.605635\n",
      "5    87.899023  106.588009  110.830043\n",
      "6    98.826744   98.128442  101.815435\n",
      "7    95.088156   87.826662  101.236481\n",
      "8   105.937918  106.603374  118.756074\n",
      "9   120.796959   99.306013  109.194134\n",
      "10  105.391693  114.545256  102.855587\n",
      "11   93.355062  118.576832  106.689585\n",
      "12   95.363065   98.595940   97.791791\n",
      "13  101.259108  107.656136  103.558342\n",
      "14  106.361700   93.024811   85.104825\n",
      "15   85.950482   98.871303  107.550013\n",
      "16  112.894188  126.973899  117.724407\n",
      "17   90.023274   93.438825  109.356984\n",
      "18   74.997913   79.694171  102.893003\n",
      "19  118.142174   97.222989  107.439284\n"
     ]
    }
   ],
   "source": [
    "arr = np.random.normal(100, 10, (20,3))\n",
    "df = pd.DataFrame(arr)\n",
    "print(df)\n"
   ]
  },
  {
   "cell_type": "markdown",
   "metadata": {},
   "source": [
    "#### 5) Nomeie os índices das linhas com inteiros de 1 a 20, e as colunas com os nomes \"x1\", \"x2\", e \"x3\" respectivamente."
   ]
  },
  {
   "cell_type": "code",
   "execution_count": 89,
   "metadata": {},
   "outputs": [
    {
     "name": "stdout",
     "output_type": "stream",
     "text": [
      "            x1          x2          x3\n",
      "1    93.639227   83.963742   83.953889\n",
      "2   108.637202  104.708713   90.981530\n",
      "3   113.772274   95.454066   88.358183\n",
      "4    79.228644  101.222376  103.389761\n",
      "5   110.289146   86.112610   80.605635\n",
      "6    87.899023  106.588009  110.830043\n",
      "7    98.826744   98.128442  101.815435\n",
      "8    95.088156   87.826662  101.236481\n",
      "9   105.937918  106.603374  118.756074\n",
      "10  120.796959   99.306013  109.194134\n",
      "11  105.391693  114.545256  102.855587\n",
      "12   93.355062  118.576832  106.689585\n",
      "13   95.363065   98.595940   97.791791\n",
      "14  101.259108  107.656136  103.558342\n",
      "15  106.361700   93.024811   85.104825\n",
      "16   85.950482   98.871303  107.550013\n",
      "17  112.894188  126.973899  117.724407\n",
      "18   90.023274   93.438825  109.356984\n",
      "19   74.997913   79.694171  102.893003\n",
      "20  118.142174   97.222989  107.439284\n"
     ]
    }
   ],
   "source": [
    "df = pd.DataFrame(arr, index=range(1, 21), columns=[\"x1\", \"x2\", \"x3\"])\n",
    "print (df)\n",
    "\n"
   ]
  },
  {
   "cell_type": "markdown",
   "metadata": {},
   "source": [
    "#### 6) No DataFrame do exercício 5, crie uma nova coluna como sendo a média das três colunas, e dê a ela o nome de \"media\" (não recomendo colocar acentos em nomes de variáveis)."
   ]
  },
  {
   "cell_type": "code",
   "execution_count": 90,
   "metadata": {},
   "outputs": [
    {
     "name": "stdout",
     "output_type": "stream",
     "text": [
      "            x1          x2          x3       media\n",
      "1    93.639227   83.963742   83.953889   87.185620\n",
      "2   108.637202  104.708713   90.981530  101.442482\n",
      "3   113.772274   95.454066   88.358183   99.194841\n",
      "4    79.228644  101.222376  103.389761   94.613594\n",
      "5   110.289146   86.112610   80.605635   92.335797\n",
      "6    87.899023  106.588009  110.830043  101.772358\n",
      "7    98.826744   98.128442  101.815435   99.590207\n",
      "8    95.088156   87.826662  101.236481   94.717100\n",
      "9   105.937918  106.603374  118.756074  110.432455\n",
      "10  120.796959   99.306013  109.194134  109.765702\n",
      "11  105.391693  114.545256  102.855587  107.597512\n",
      "12   93.355062  118.576832  106.689585  106.207160\n",
      "13   95.363065   98.595940   97.791791   97.250265\n",
      "14  101.259108  107.656136  103.558342  104.157862\n",
      "15  106.361700   93.024811   85.104825   94.830445\n",
      "16   85.950482   98.871303  107.550013   97.457266\n",
      "17  112.894188  126.973899  117.724407  119.197498\n",
      "18   90.023274   93.438825  109.356984   97.606361\n",
      "19   74.997913   79.694171  102.893003   85.861696\n",
      "20  118.142174   97.222989  107.439284  107.601482\n"
     ]
    }
   ],
   "source": [
    "df = pd.DataFrame(arr, index=range(1, 21), columns=[\"x1\", \"x2\", \"x3\"])\n",
    "df['media'] = df[['x1', 'x2', 'x3']].mean(axis=1)   # axis=1: cáculo realizado ao longo das colunas\n",
    "print(df)\n"
   ]
  },
  {
   "cell_type": "markdown",
   "metadata": {},
   "source": [
    "#### 7) No DataFrame do exercício 6, crie uma nova coluna chamada \"log_med\", contendo o logaritmo natural da média calculada no exercício 6 <br>"
   ]
  },
  {
   "cell_type": "code",
   "execution_count": 91,
   "metadata": {},
   "outputs": [
    {
     "name": "stdout",
     "output_type": "stream",
     "text": [
      "            x1          x2          x3       media   log_med\n",
      "1    93.639227   83.963742   83.953889   87.185620  4.468039\n",
      "2   108.637202  104.708713   90.981530  101.442482  4.619492\n",
      "3   113.772274   95.454066   88.358183   99.194841  4.597086\n",
      "4    79.228644  101.222376  103.389761   94.613594  4.549801\n",
      "5   110.289146   86.112610   80.605635   92.335797  4.525432\n",
      "6    87.899023  106.588009  110.830043  101.772358  4.622739\n",
      "7    98.826744   98.128442  101.815435   99.590207  4.601064\n",
      "8    95.088156   87.826662  101.236481   94.717100  4.550895\n",
      "9   105.937918  106.603374  118.756074  110.432455  4.704404\n",
      "10  120.796959   99.306013  109.194134  109.765702  4.698348\n",
      "11  105.391693  114.545256  102.855587  107.597512  4.678398\n",
      "12   93.355062  118.576832  106.689585  106.207160  4.665392\n",
      "13   95.363065   98.595940   97.791791   97.250265  4.577288\n",
      "14  101.259108  107.656136  103.558342  104.157862  4.645908\n",
      "15  106.361700   93.024811   85.104825   94.830445  4.552091\n",
      "16   85.950482   98.871303  107.550013   97.457266  4.579414\n",
      "17  112.894188  126.973899  117.724407  119.197498  4.780782\n",
      "18   90.023274   93.438825  109.356984   97.606361  4.580943\n",
      "19   74.997913   79.694171  102.893003   85.861696  4.452738\n",
      "20  118.142174   97.222989  107.439284  107.601482  4.678434\n"
     ]
    }
   ],
   "source": [
    "df = pd.DataFrame(arr, index=range(1, 21), columns=[\"x1\", \"x2\", \"x3\"])\n",
    "df['media'] = df.mean(axis=1)\n",
    "df['log_med'] = np.log(df['media'])\n",
    "print(df)\n"
   ]
  }
 ],
 "metadata": {
  "kernelspec": {
   "display_name": "Python 3 (ipykernel)",
   "language": "python",
   "name": "python3"
  },
  "language_info": {
   "codemirror_mode": {
    "name": "ipython",
    "version": 3
   },
   "file_extension": ".py",
   "mimetype": "text/x-python",
   "name": "python",
   "nbconvert_exporter": "python",
   "pygments_lexer": "ipython3",
   "version": "3.11.5"
  }
 },
 "nbformat": 4,
 "nbformat_minor": 4
}
